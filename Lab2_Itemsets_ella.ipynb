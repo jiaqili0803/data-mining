{
 "cells": [
  {
   "cell_type": "markdown",
   "metadata": {},
   "source": [
    "# Lab 2: Introduction to Itemset Mining in Python"
   ]
  },
  {
   "cell_type": "markdown",
   "metadata": {},
   "source": [
    "In this lab, we will use a Groceries Dataset available on Kaggle. A full description of the dataset is available at https://www.kaggle.com/heeraldedhia/groceries-dataset. It is composed of 38,765 rows of items purchased at the grocery store and contains the following columns:\n",
    "  * `Member_number` the id of the member who purchased the item\n",
    "  * `Date` the date that the transaction occurred\n",
    "  * `itemDescription` the item that was purchased\n",
    "\n",
    "\n",
    "We will be performing Market Basket Analysis on the data by applying the **Apriori Algorithm**. When doing so, it is important to keep in mind that this is a very small, limited dataset so we must be careful with how we interpret the significance of any of our findings."
   ]
  },
  {
   "cell_type": "code",
   "execution_count": 1,
   "metadata": {},
   "outputs": [],
   "source": [
    "# %pip install pandas\n",
    "import pandas as pd\n",
    "# %pip install numpy\n",
    "import numpy as np\n",
    "# %pip install seaborn\n",
    "import seaborn as sns\n",
    "# %pip install apyori\n",
    "from apyori import apriori  # apriori package"
   ]
  },
  {
   "cell_type": "markdown",
   "metadata": {},
   "source": [
    "### 1. Data Exploration"
   ]
  },
  {
   "cell_type": "markdown",
   "metadata": {},
   "source": [
    "Let's begin by loading the dataset and performing some preliminary data exploration."
   ]
  },
  {
   "cell_type": "code",
   "execution_count": 2,
   "metadata": {},
   "outputs": [
    {
     "name": "stdout",
     "output_type": "stream",
     "text": [
      "Number of rows: 38765\n",
      "Number of columns: 3\n"
     ]
    },
    {
     "data": {
      "text/html": [
       "<div>\n",
       "<style scoped>\n",
       "    .dataframe tbody tr th:only-of-type {\n",
       "        vertical-align: middle;\n",
       "    }\n",
       "\n",
       "    .dataframe tbody tr th {\n",
       "        vertical-align: top;\n",
       "    }\n",
       "\n",
       "    .dataframe thead th {\n",
       "        text-align: right;\n",
       "    }\n",
       "</style>\n",
       "<table border=\"1\" class=\"dataframe\">\n",
       "  <thead>\n",
       "    <tr style=\"text-align: right;\">\n",
       "      <th></th>\n",
       "      <th>Member_number</th>\n",
       "      <th>Date</th>\n",
       "      <th>itemDescription</th>\n",
       "    </tr>\n",
       "  </thead>\n",
       "  <tbody>\n",
       "    <tr>\n",
       "      <th>20846</th>\n",
       "      <td>3354</td>\n",
       "      <td>14-01-2015</td>\n",
       "      <td>other vegetables</td>\n",
       "    </tr>\n",
       "    <tr>\n",
       "      <th>5971</th>\n",
       "      <td>3507</td>\n",
       "      <td>22-07-2015</td>\n",
       "      <td>other vegetables</td>\n",
       "    </tr>\n",
       "    <tr>\n",
       "      <th>10975</th>\n",
       "      <td>3142</td>\n",
       "      <td>12-02-2014</td>\n",
       "      <td>tropical fruit</td>\n",
       "    </tr>\n",
       "    <tr>\n",
       "      <th>33476</th>\n",
       "      <td>4078</td>\n",
       "      <td>21-06-2014</td>\n",
       "      <td>soda</td>\n",
       "    </tr>\n",
       "    <tr>\n",
       "      <th>28134</th>\n",
       "      <td>1421</td>\n",
       "      <td>26-12-2014</td>\n",
       "      <td>shopping bags</td>\n",
       "    </tr>\n",
       "  </tbody>\n",
       "</table>\n",
       "</div>"
      ],
      "text/plain": [
       "       Member_number        Date   itemDescription\n",
       "20846           3354  14-01-2015  other vegetables\n",
       "5971            3507  22-07-2015  other vegetables\n",
       "10975           3142  12-02-2014    tropical fruit\n",
       "33476           4078  21-06-2014              soda\n",
       "28134           1421  26-12-2014     shopping bags"
      ]
     },
     "execution_count": 2,
     "metadata": {},
     "output_type": "execute_result"
    }
   ],
   "source": [
    "# load the dataset\n",
    "groceries = pd.read_csv('Groceries_dataset.csv')\n",
    "print(\"Number of rows:\", groceries.shape[0])\n",
    "print(\"Number of columns:\", groceries.shape[1])\n",
    "groceries.sample(5)"
   ]
  },
  {
   "cell_type": "markdown",
   "metadata": {},
   "source": [
    "We see that we have 38,765 rows and three columns: the 'Member_number' (the ID of the customer), 'Date' (the date of the purchase) and 'itemDescription' (the product purchased). Therefore, each row represents an item that was purchased by a customer on a given date. If multiple items were purchased by the customer on that date, we will have multiple rows for that combination of 'Member_number' and 'Date'."
   ]
  },
  {
   "cell_type": "code",
   "execution_count": 3,
   "metadata": {},
   "outputs": [
    {
     "name": "stdout",
     "output_type": "stream",
     "text": [
      "Number of unique customers: 3898\n",
      "Number of unique items: 167\n"
     ]
    }
   ],
   "source": [
    "# number of unique customers\n",
    "print(\"Number of unique customers:\", groceries.Member_number.nunique())\n",
    "# number of unique items\n",
    "print(\"Number of unique items:\", groceries.itemDescription.nunique())"
   ]
  },
  {
   "cell_type": "code",
   "execution_count": 4,
   "metadata": {},
   "outputs": [
    {
     "name": "stdout",
     "output_type": "stream",
     "text": [
      "Number of unique dates: 728\n",
      "Date Range: 01-01-2014 - 31-10-2015\n"
     ]
    }
   ],
   "source": [
    "# number of unique dates\n",
    "print(\"Number of unique dates:\", groceries.Date.nunique())\n",
    "# range of dates\n",
    "print(\"Date Range: {} - {}\".format(groceries.Date.min(), groceries.Date.max()))"
   ]
  },
  {
   "cell_type": "code",
   "execution_count": 5,
   "metadata": {},
   "outputs": [
    {
     "name": "stdout",
     "output_type": "stream",
     "text": [
      "Number of unique customer-date combinations: 14963\n"
     ]
    }
   ],
   "source": [
    "# number of unique customer-date combination\n",
    "print(\"Number of unique customer-date combinations:\",\n",
    "      len(groceries.drop_duplicates(['Member_number', 'Date'])))"
   ]
  },
  {
   "cell_type": "code",
   "execution_count": 6,
   "metadata": {},
   "outputs": [
    {
     "data": {
      "text/html": [
       "<div>\n",
       "<style scoped>\n",
       "    .dataframe tbody tr th:only-of-type {\n",
       "        vertical-align: middle;\n",
       "    }\n",
       "\n",
       "    .dataframe tbody tr th {\n",
       "        vertical-align: top;\n",
       "    }\n",
       "\n",
       "    .dataframe thead th {\n",
       "        text-align: right;\n",
       "    }\n",
       "</style>\n",
       "<table border=\"1\" class=\"dataframe\">\n",
       "  <thead>\n",
       "    <tr style=\"text-align: right;\">\n",
       "      <th></th>\n",
       "      <th>Member_number</th>\n",
       "      <th>Date</th>\n",
       "      <th>itemDescription</th>\n",
       "    </tr>\n",
       "  </thead>\n",
       "  <tbody>\n",
       "    <tr>\n",
       "      <th>0</th>\n",
       "      <td>1808</td>\n",
       "      <td>21-07-2015</td>\n",
       "      <td>tropical fruit</td>\n",
       "    </tr>\n",
       "    <tr>\n",
       "      <th>1</th>\n",
       "      <td>2552</td>\n",
       "      <td>05-01-2015</td>\n",
       "      <td>whole milk</td>\n",
       "    </tr>\n",
       "    <tr>\n",
       "      <th>2</th>\n",
       "      <td>2300</td>\n",
       "      <td>19-09-2015</td>\n",
       "      <td>pip fruit</td>\n",
       "    </tr>\n",
       "    <tr>\n",
       "      <th>3</th>\n",
       "      <td>1187</td>\n",
       "      <td>12-12-2015</td>\n",
       "      <td>other vegetables</td>\n",
       "    </tr>\n",
       "    <tr>\n",
       "      <th>4</th>\n",
       "      <td>3037</td>\n",
       "      <td>01-02-2015</td>\n",
       "      <td>whole milk</td>\n",
       "    </tr>\n",
       "    <tr>\n",
       "      <th>...</th>\n",
       "      <td>...</td>\n",
       "      <td>...</td>\n",
       "      <td>...</td>\n",
       "    </tr>\n",
       "    <tr>\n",
       "      <th>38760</th>\n",
       "      <td>4471</td>\n",
       "      <td>08-10-2014</td>\n",
       "      <td>sliced cheese</td>\n",
       "    </tr>\n",
       "    <tr>\n",
       "      <th>38761</th>\n",
       "      <td>2022</td>\n",
       "      <td>23-02-2014</td>\n",
       "      <td>candy</td>\n",
       "    </tr>\n",
       "    <tr>\n",
       "      <th>38762</th>\n",
       "      <td>1097</td>\n",
       "      <td>16-04-2014</td>\n",
       "      <td>cake bar</td>\n",
       "    </tr>\n",
       "    <tr>\n",
       "      <th>38763</th>\n",
       "      <td>1510</td>\n",
       "      <td>03-12-2014</td>\n",
       "      <td>fruit/vegetable juice</td>\n",
       "    </tr>\n",
       "    <tr>\n",
       "      <th>38764</th>\n",
       "      <td>1521</td>\n",
       "      <td>26-12-2014</td>\n",
       "      <td>cat food</td>\n",
       "    </tr>\n",
       "  </tbody>\n",
       "</table>\n",
       "<p>38765 rows × 3 columns</p>\n",
       "</div>"
      ],
      "text/plain": [
       "       Member_number        Date        itemDescription\n",
       "0               1808  21-07-2015         tropical fruit\n",
       "1               2552  05-01-2015             whole milk\n",
       "2               2300  19-09-2015              pip fruit\n",
       "3               1187  12-12-2015       other vegetables\n",
       "4               3037  01-02-2015             whole milk\n",
       "...              ...         ...                    ...\n",
       "38760           4471  08-10-2014          sliced cheese\n",
       "38761           2022  23-02-2014                  candy\n",
       "38762           1097  16-04-2014               cake bar\n",
       "38763           1510  03-12-2014  fruit/vegetable juice\n",
       "38764           1521  26-12-2014               cat food\n",
       "\n",
       "[38765 rows x 3 columns]"
      ]
     },
     "execution_count": 6,
     "metadata": {},
     "output_type": "execute_result"
    }
   ],
   "source": [
    "groceries"
   ]
  },
  {
   "cell_type": "code",
   "execution_count": 7,
   "metadata": {},
   "outputs": [
    {
     "name": "stdout",
     "output_type": "stream",
     "text": [
      "Average Basket Size: 2.59 items\n",
      "Minimum Basket Size: 2 items\n",
      "Maximum Basket Size: 11 items\n"
     ]
    },
    {
     "name": "stderr",
     "output_type": "stream",
     "text": [
      "C:\\ProgramData\\Anaconda3\\lib\\site-packages\\seaborn\\distributions.py:2619: FutureWarning: `distplot` is a deprecated function and will be removed in a future version. Please adapt your code to use either `displot` (a figure-level function with similar flexibility) or `histplot` (an axes-level function for histograms).\n",
      "  warnings.warn(msg, FutureWarning)\n"
     ]
    },
    {
     "data": {
      "image/png": "[encoded data removed]",
      "text/plain": [
       "<Figure size 432x288 with 1 Axes>"
      ]
     },
     "metadata": {
      "needs_background": "light"
     },
     "output_type": "display_data"
    }
   ],
   "source": [
    "# average size of basket\n",
    "avg_basket_size = np.round(groceries.groupby(\n",
    "    ['Member_number', 'Date']).size().mean(), 2)  # 每人每天平均买了多少\n",
    "min_basket_size = np.round(groceries.groupby(\n",
    "    ['Member_number', 'Date']).size().min(), 2)  # 每人每天里面 最少的买了多少\n",
    "max_basket_size = np.round(groceries.groupby(\n",
    "    ['Member_number', 'Date']).size().max(), 2)  # 每人每天里面 最多的买了多少\n",
    "\n",
    "print(\"Average Basket Size: {} items\".format(avg_basket_size))\n",
    "print(\"Minimum Basket Size: {} items\".format(min_basket_size))\n",
    "print(\"Maximum Basket Size: {} items\".format(max_basket_size))\n",
    "\n",
    "# plot distribution of basket sizes\n",
    "sizes = groceries.groupby(['Member_number', 'Date']).size(\n",
    ").reset_index(name='Basket Size')['Basket Size']\n",
    "\n",
    "sns.distplot(sizes, kde=False).set_title('Distribution of Basket Sizes');"
   ]
  },
  {
   "cell_type": "code",
   "execution_count": 8,
   "metadata": {},
   "outputs": [
    {
     "data": {
      "text/plain": [
       "whole milk          2502\n",
       "other vegetables    1898\n",
       "rolls/buns          1716\n",
       "soda                1514\n",
       "yogurt              1334\n",
       "root vegetables     1071\n",
       "tropical fruit      1032\n",
       "bottled water        933\n",
       "sausage              924\n",
       "citrus fruit         812\n",
       "Name: itemDescription, dtype: int64"
      ]
     },
     "execution_count": 8,
     "metadata": {},
     "output_type": "execute_result"
    }
   ],
   "source": [
    "# what are the 10 most frequent items in the dataset? how many times were they bought?\n",
    "groceries.itemDescription.value_counts()[:10]"
   ]
  },
  {
   "cell_type": "markdown",
   "metadata": {},
   "source": [
    "### 2. Association Rules"
   ]
  },
  {
   "cell_type": "markdown",
   "metadata": {},
   "source": [
    "Now that we have explored the nature of our data, we can start mining the data for insights. We will start with association rules. The end goal with association rules is to be able to predict other items that customers are likely to buy based on what they actually have bought/have in their basket. As we saw in lecture, an example of an association rule is that for people who bought {x, y, z}, they also tend to buy {v, w}. We will want to find all (interesting) rules X --> Y with minimum support and confidence. As a review:\n",
    "\n",
    "  * `Support`: probability that a transaction contains X and Y\n",
    "  * `Confidence`: conditional probability that a transaction having X also contains Y, P(Y|X)\n",
    "  * `Interest`: difference between its confidence and the fraction of baskets that contain Y\n",
    "  \n",
    "Using a small subset of the data, we will first caclulate these concepts by hand. Then, we will apply the Apriori Algorithm to the entire dataset."
   ]
  },
  {
   "cell_type": "markdown",
   "metadata": {},
   "source": [
    "But first, we must do some data manipulation to get the data in the right format. We will need to group the data by 'Member_number' and 'Date' so that we have a set of the items for each transaction (i.e., all items purchased by the customer on that date)."
   ]
  },
  {
   "cell_type": "code",
   "execution_count": 9,
   "metadata": {},
   "outputs": [],
   "source": [
    "# list(groceries.groupby(['Member_number', 'Date']))"
   ]
  },
  {
   "cell_type": "code",
   "execution_count": 10,
   "metadata": {},
   "outputs": [
    {
     "data": {
      "text/plain": [
       "{'sausage', 'semi-finished bread', 'whole milk', 'yogurt'}"
      ]
     },
     "execution_count": 10,
     "metadata": {},
     "output_type": "execute_result"
    }
   ],
   "source": [
    "# get data in proper format\n",
    "transactions = [set(items[1].itemDescription)\n",
    "                for items in list(groceries.groupby(['Member_number', 'Date']))]  # 每人每天买的东西的unique set\n",
    "\n",
    "transactions[0]  # example transaction"
   ]
  },
  {
   "cell_type": "code",
   "execution_count": 11,
   "metadata": {},
   "outputs": [
    {
     "name": "stdout",
     "output_type": "stream",
     "text": [
      "Transaction 1: {'yogurt', 'sausage', 'whole milk', 'semi-finished bread'}\n",
      "Transaction 2: {'rolls/buns', 'sausage', 'whole milk'}\n",
      "Transaction 3: {'rolls/buns', 'sausage'}\n",
      "Transaction 4: {'yogurt', 'sausage', 'bottled beer', 'whole milk'}\n"
     ]
    }
   ],
   "source": [
    "# we will use a subset of 4 transactions for this example\n",
    "\n",
    "print(\"Transaction 1:\", transactions[0])\n",
    "print(\"Transaction 2:\", transactions[6])\n",
    "print(\"Transaction 3:\", transactions[14])\n",
    "print(\"Transaction 4:\", transactions[24])\n",
    "\n",
    "transaction_subset = [transactions[0], transactions[6],\n",
    "                      transactions[14], transactions[24]]"
   ]
  },
  {
   "cell_type": "code",
   "execution_count": 12,
   "metadata": {},
   "outputs": [
    {
     "data": {
      "text/html": [
       "<div>\n",
       "<style scoped>\n",
       "    .dataframe tbody tr th:only-of-type {\n",
       "        vertical-align: middle;\n",
       "    }\n",
       "\n",
       "    .dataframe tbody tr th {\n",
       "        vertical-align: top;\n",
       "    }\n",
       "\n",
       "    .dataframe thead th {\n",
       "        text-align: right;\n",
       "    }\n",
       "</style>\n",
       "<table border=\"1\" class=\"dataframe\">\n",
       "  <thead>\n",
       "    <tr style=\"text-align: right;\">\n",
       "      <th></th>\n",
       "      <th>semi-finished bread</th>\n",
       "      <th>whole milk</th>\n",
       "      <th>yogurt</th>\n",
       "      <th>sausage</th>\n",
       "      <th>rolls/buns</th>\n",
       "      <th>bottled beer</th>\n",
       "    </tr>\n",
       "  </thead>\n",
       "  <tbody>\n",
       "    <tr>\n",
       "      <th>0</th>\n",
       "      <td>1</td>\n",
       "      <td>1</td>\n",
       "      <td>1</td>\n",
       "      <td>1</td>\n",
       "      <td>0</td>\n",
       "      <td>0</td>\n",
       "    </tr>\n",
       "    <tr>\n",
       "      <th>1</th>\n",
       "      <td>0</td>\n",
       "      <td>1</td>\n",
       "      <td>0</td>\n",
       "      <td>1</td>\n",
       "      <td>1</td>\n",
       "      <td>0</td>\n",
       "    </tr>\n",
       "    <tr>\n",
       "      <th>2</th>\n",
       "      <td>0</td>\n",
       "      <td>0</td>\n",
       "      <td>0</td>\n",
       "      <td>1</td>\n",
       "      <td>1</td>\n",
       "      <td>0</td>\n",
       "    </tr>\n",
       "    <tr>\n",
       "      <th>3</th>\n",
       "      <td>0</td>\n",
       "      <td>1</td>\n",
       "      <td>1</td>\n",
       "      <td>1</td>\n",
       "      <td>0</td>\n",
       "      <td>1</td>\n",
       "    </tr>\n",
       "  </tbody>\n",
       "</table>\n",
       "</div>"
      ],
      "text/plain": [
       "   semi-finished bread  whole milk  yogurt  sausage  rolls/buns  bottled beer\n",
       "0                    1           1       1        1           0             0\n",
       "1                    0           1       0        1           1             0\n",
       "2                    0           0       0        1           1             0\n",
       "3                    0           1       1        1           0             1"
      ]
     },
     "execution_count": 12,
     "metadata": {},
     "output_type": "execute_result"
    }
   ],
   "source": [
    "# we can also represent this data as a dataframe/matrix where 1 = item present and 0 = item absent\n",
    "\n",
    "transactions_subset_df = pd.DataFrame({'semi-finished bread': [1, 0, 0, 0],\n",
    "                                       'whole milk': [1, 1, 0, 1],\n",
    "                                       'yogurt': [1, 0, 0, 1],\n",
    "                                       'sausage': [1, 1, 1, 1],\n",
    "                                       'rolls/buns': [0, 1, 1, 0],\n",
    "                                       'bottled beer': [0, 0, 0, 1]})\n",
    "\n",
    "transactions_subset_df"
   ]
  },
  {
   "cell_type": "code",
   "execution_count": 13,
   "metadata": {},
   "outputs": [
    {
     "data": {
      "text/plain": [
       "{'semi-finished bread': 1,\n",
       " 'whole milk': 3,\n",
       " 'yogurt': 2,\n",
       " 'sausage': 4,\n",
       " 'rolls/buns': 2,\n",
       " 'bottled beer': 1}"
      ]
     },
     "execution_count": 13,
     "metadata": {},
     "output_type": "execute_result"
    }
   ],
   "source": [
    "# calculate support for individual items: which are equal to or greater than minsup = 50%?\n",
    "\n",
    "item_counter = {}\n",
    "for product in transactions_subset_df.columns:\n",
    "    item_counter[product] = sum(transactions_subset_df[product] > 0)\n",
    "\n",
    "item_counter"
   ]
  },
  {
   "cell_type": "markdown",
   "metadata": {},
   "source": [
    "Looking at the frequency of each individual item, we see that 'whole milk', and 'sausage' meet or surpass the 50% minsup threshold. Focusing in on these items, let's see if there are any pairs of items that surpass the 50% minsup threshold as well."
   ]
  },
  {
   "cell_type": "code",
   "execution_count": 14,
   "metadata": {},
   "outputs": [
    {
     "data": {
      "text/html": [
       "<div>\n",
       "<style scoped>\n",
       "    .dataframe tbody tr th:only-of-type {\n",
       "        vertical-align: middle;\n",
       "    }\n",
       "\n",
       "    .dataframe tbody tr th {\n",
       "        vertical-align: top;\n",
       "    }\n",
       "\n",
       "    .dataframe thead th {\n",
       "        text-align: right;\n",
       "    }\n",
       "</style>\n",
       "<table border=\"1\" class=\"dataframe\">\n",
       "  <thead>\n",
       "    <tr style=\"text-align: right;\">\n",
       "      <th></th>\n",
       "      <th>semi-finished bread</th>\n",
       "      <th>whole milk</th>\n",
       "      <th>yogurt</th>\n",
       "      <th>sausage</th>\n",
       "      <th>rolls/buns</th>\n",
       "      <th>bottled beer</th>\n",
       "    </tr>\n",
       "  </thead>\n",
       "  <tbody>\n",
       "    <tr>\n",
       "      <th>0</th>\n",
       "      <td>1</td>\n",
       "      <td>1</td>\n",
       "      <td>1</td>\n",
       "      <td>1</td>\n",
       "      <td>0</td>\n",
       "      <td>0</td>\n",
       "    </tr>\n",
       "    <tr>\n",
       "      <th>1</th>\n",
       "      <td>0</td>\n",
       "      <td>1</td>\n",
       "      <td>0</td>\n",
       "      <td>1</td>\n",
       "      <td>1</td>\n",
       "      <td>0</td>\n",
       "    </tr>\n",
       "    <tr>\n",
       "      <th>2</th>\n",
       "      <td>0</td>\n",
       "      <td>0</td>\n",
       "      <td>0</td>\n",
       "      <td>1</td>\n",
       "      <td>1</td>\n",
       "      <td>0</td>\n",
       "    </tr>\n",
       "    <tr>\n",
       "      <th>3</th>\n",
       "      <td>0</td>\n",
       "      <td>1</td>\n",
       "      <td>1</td>\n",
       "      <td>1</td>\n",
       "      <td>0</td>\n",
       "      <td>1</td>\n",
       "    </tr>\n",
       "  </tbody>\n",
       "</table>\n",
       "</div>"
      ],
      "text/plain": [
       "   semi-finished bread  whole milk  yogurt  sausage  rolls/buns  bottled beer\n",
       "0                    1           1       1        1           0             0\n",
       "1                    0           1       0        1           1             0\n",
       "2                    0           0       0        1           1             0\n",
       "3                    0           1       1        1           0             1"
      ]
     },
     "execution_count": 14,
     "metadata": {},
     "output_type": "execute_result"
    }
   ],
   "source": [
    "transactions_subset_df"
   ]
  },
  {
   "cell_type": "code",
   "execution_count": 55,
   "metadata": {},
   "outputs": [
    {
     "data": {
      "text/plain": [
       "array([[1, 1, 1, 1, 0, 0],\n",
       "       [0, 1, 0, 1, 1, 0],\n",
       "       [0, 0, 0, 1, 1, 0],\n",
       "       [0, 1, 1, 1, 0, 1]], dtype=int64)"
      ]
     },
     "execution_count": 55,
     "metadata": {},
     "output_type": "execute_result"
    }
   ],
   "source": [
    "transaction_matrix = transactions_subset_df.values\n",
    "transaction_matrix\n",
    "# transaction_matrix.shape"
   ]
  },
  {
   "cell_type": "code",
   "execution_count": 65,
   "metadata": {},
   "outputs": [
    {
     "data": {
      "text/html": [
       "<div>\n",
       "<style scoped>\n",
       "    .dataframe tbody tr th:only-of-type {\n",
       "        vertical-align: middle;\n",
       "    }\n",
       "\n",
       "    .dataframe tbody tr th {\n",
       "        vertical-align: top;\n",
       "    }\n",
       "\n",
       "    .dataframe thead th {\n",
       "        text-align: right;\n",
       "    }\n",
       "</style>\n",
       "<table border=\"1\" class=\"dataframe\">\n",
       "  <thead>\n",
       "    <tr style=\"text-align: right;\">\n",
       "      <th></th>\n",
       "      <th>semi-finished bread</th>\n",
       "      <th>whole milk</th>\n",
       "      <th>yogurt</th>\n",
       "      <th>sausage</th>\n",
       "      <th>rolls/buns</th>\n",
       "      <th>bottled beer</th>\n",
       "    </tr>\n",
       "  </thead>\n",
       "  <tbody>\n",
       "    <tr>\n",
       "      <th>semi-finished bread</th>\n",
       "      <td>0.0</td>\n",
       "      <td>1.0</td>\n",
       "      <td>1.0</td>\n",
       "      <td>1.0</td>\n",
       "      <td>0.0</td>\n",
       "      <td>0.0</td>\n",
       "    </tr>\n",
       "    <tr>\n",
       "      <th>whole milk</th>\n",
       "      <td>0.0</td>\n",
       "      <td>0.0</td>\n",
       "      <td>2.0</td>\n",
       "      <td>3.0</td>\n",
       "      <td>1.0</td>\n",
       "      <td>1.0</td>\n",
       "    </tr>\n",
       "    <tr>\n",
       "      <th>yogurt</th>\n",
       "      <td>0.0</td>\n",
       "      <td>0.0</td>\n",
       "      <td>0.0</td>\n",
       "      <td>2.0</td>\n",
       "      <td>0.0</td>\n",
       "      <td>1.0</td>\n",
       "    </tr>\n",
       "    <tr>\n",
       "      <th>sausage</th>\n",
       "      <td>0.0</td>\n",
       "      <td>0.0</td>\n",
       "      <td>0.0</td>\n",
       "      <td>0.0</td>\n",
       "      <td>2.0</td>\n",
       "      <td>1.0</td>\n",
       "    </tr>\n",
       "    <tr>\n",
       "      <th>rolls/buns</th>\n",
       "      <td>0.0</td>\n",
       "      <td>0.0</td>\n",
       "      <td>0.0</td>\n",
       "      <td>0.0</td>\n",
       "      <td>0.0</td>\n",
       "      <td>0.0</td>\n",
       "    </tr>\n",
       "    <tr>\n",
       "      <th>bottled beer</th>\n",
       "      <td>0.0</td>\n",
       "      <td>0.0</td>\n",
       "      <td>0.0</td>\n",
       "      <td>0.0</td>\n",
       "      <td>0.0</td>\n",
       "      <td>0.0</td>\n",
       "    </tr>\n",
       "  </tbody>\n",
       "</table>\n",
       "</div>"
      ],
      "text/plain": [
       "                     semi-finished bread  whole milk  yogurt  sausage  \\\n",
       "semi-finished bread                  0.0         1.0     1.0      1.0   \n",
       "whole milk                           0.0         0.0     2.0      3.0   \n",
       "yogurt                               0.0         0.0     0.0      2.0   \n",
       "sausage                              0.0         0.0     0.0      0.0   \n",
       "rolls/buns                           0.0         0.0     0.0      0.0   \n",
       "bottled beer                         0.0         0.0     0.0      0.0   \n",
       "\n",
       "                     rolls/buns  bottled beer  \n",
       "semi-finished bread         0.0           0.0  \n",
       "whole milk                  1.0           1.0  \n",
       "yogurt                      0.0           1.0  \n",
       "sausage                     2.0           1.0  \n",
       "rolls/buns                  0.0           0.0  \n",
       "bottled beer                0.0           0.0  "
      ]
     },
     "execution_count": 65,
     "metadata": {},
     "output_type": "execute_result"
    }
   ],
   "source": [
    "# calculate support for item pairs: which are equal to or greater than minsup = 50%?\n",
    "\n",
    "# source: https://dzenanhamzic.com/2017/01/19/market-basket-analysis-mining-frequent-pairs-in-python/\n",
    "\n",
    "# take data matrix from dataframe\n",
    "# .or to_numpy() works, as_matrix() is not used any more\n",
    "transaction_matrix = transactions_subset_df.values\n",
    "# get number of rows and columns\n",
    "rows, columns = transaction_matrix.shape\n",
    "\n",
    "# init new matrix\n",
    "frequent_items_matrix = np.zeros((6, 6))\n",
    "\n",
    "# compare every product with every other\n",
    "for this_column in range(0, columns-1):\n",
    "    for next_column in range(this_column + 1, columns):\n",
    "        # print(this_column, next_column)\n",
    "\n",
    "        # multiply product pair vectors\n",
    "        product_vector = transaction_matrix[:, this_column] * \\\n",
    "            transaction_matrix[:, next_column]  # 每个对对儿相乘\n",
    "        # print(product_vector)\n",
    "\n",
    "        # check the number of pair occurrences in baskets\n",
    "        # 四次transction里面 每对儿一起被购买的次数统计\n",
    "        count_matches = sum((product_vector) > 0)\n",
    "        # print(count_matches)\n",
    "\n",
    "        # save values to new matrix\n",
    "        frequent_items_matrix[this_column, next_column] = count_matches\n",
    "\n",
    "frequent_items_df = pd.DataFrame(\n",
    "    frequent_items_matrix, columns=transactions_subset_df.columns.values, index=transactions_subset_df.columns.values)\n",
    "frequent_items_df\n",
    "\n",
    "# 得到对er们一起被购买的总次数表 （4次一共"
   ]
  },
  {
   "cell_type": "markdown",
   "metadata": {},
   "source": [
    "Looking at the results, we see that the only itemset that surpasses our 50% minsup threshold is {whole milk, sausage}. Now let's calculate the confidence to see if it surpasses our 50% minconf threshold as well. \n",
    "\n",
    "Association rule 1: sausage -> whole milk\n",
    "\n",
    "Confidence = Pr(whole milk | sausage) = 3/4 = 75%\n",
    "\n",
    "Interest = conf(sausage -> whole milk) − Pr(whole milk) = 75% - 75% = 0% (definitely not interesting)\n",
    "\n",
    "\n",
    "Association rule 2: whole milk -> sausage\n",
    "\n",
    "Confidence = Pr(sausage | whole milk) = 3/3 = 100%\n",
    "\n",
    "Interest = conf(whole milk → sausage) − Pr(sausage) = 100% - 100% = 0% (also definitely not interesting)\n",
    "\n",
    "\n",
    "This serves an an important lesson that not all high confidence association rules are interesting! Next, let's apply the apriori algorithm to our entire dataset to see if we can find more interesting insights."
   ]
  },
  {
   "cell_type": "code",
   "execution_count": 66,
   "metadata": {},
   "outputs": [],
   "source": [
    "# not all high confidence association rules are interesting, THIS IS WHY WE NEED CALCULATE INTERESTS"
   ]
  },
  {
   "cell_type": "markdown",
   "metadata": {},
   "source": [
    "### 2.1 Association Rules using the Apriori Algorithm "
   ]
  },
  {
   "cell_type": "code",
   "execution_count": 75,
   "metadata": {},
   "outputs": [],
   "source": [
    "# in the last part, we do this manually, but here we can use the Apriori Algorithm to do easily."
   ]
  },
  {
   "cell_type": "markdown",
   "metadata": {},
   "source": [
    "With these concepts in mind, we can specify the min_support and min_confidence when using the Apriori Algorithm. Also, we can specify the value for min_lift, a measure of interestingness. Keep in mind that we will want to try out different values of min_support, min_confidence and min_lift depending on the task and problem at hand - it will require a bit of trial and error."
   ]
  },
  {
   "cell_type": "code",
   "execution_count": 74,
   "metadata": {},
   "outputs": [
    {
     "name": "stdout",
     "output_type": "stream",
     "text": [
      "Rule: sausage -> bottled beer\n",
      "Support: 0.003341575887188398\n",
      "Confidence: 0.07374631268436578\n",
      "Lift: 1.2220000849348451\n",
      "=====================================\n",
      "Rule: yogurt -> citrus fruit\n",
      "Support: 0.004611374724319989\n",
      "Confidence: 0.08679245283018867\n",
      "Lift: 1.0106423904265471\n",
      "=====================================\n",
      "Rule: frankfurter -> other vegetables\n",
      "Support: 0.005146026866270133\n",
      "Confidence: 0.13628318584070798\n",
      "Lift: 1.1161495948191098\n",
      "=====================================\n",
      "Rule: rolls/buns -> fruit/vegetable juice\n",
      "Support: 0.003742564993651006\n",
      "Confidence: 0.11001964636542241\n",
      "Lift: 1.0001360683874942\n",
      "=====================================\n",
      "Rule: pastry -> sausage\n",
      "Support: 0.003207912851700862\n",
      "Confidence: 0.06201550387596899\n",
      "Lift: 1.0276168156103256\n",
      "=====================================\n",
      "Rule: root vegetables -> shopping bags\n",
      "Support: 0.003341575887188398\n",
      "Confidence: 0.0702247191011236\n",
      "Lift: 1.0093875810856026\n",
      "=====================================\n",
      "Rule: soda -> sausage\n",
      "Support: 0.005948005079195348\n",
      "Confidence: 0.09856035437430785\n",
      "Lift: 1.0149749363405152\n",
      "=====================================\n",
      "Rule: yogurt -> sausage\n",
      "Support: 0.005747510525964045\n",
      "Confidence: 0.09523809523809523\n",
      "Lift: 1.1089864739670185\n",
      "=====================================\n"
     ]
    }
   ],
   "source": [
    "association_results = list(\n",
    "    apriori(transactions, min_support=0.003, min_confidence=0.05, min_lift=1.0))\n",
    "# min_lift, a measure of interestingness\n",
    "# transactions, is the proper format of each transaction collection\n",
    "\n",
    "# filtering to rules with at least 2 items\n",
    "association_results = filter(lambda x: len(x.items) > 1, association_results)\n",
    "\n",
    "\n",
    "# source: https://stackabuse.com/association-rule-mining-via-apriori-algorithm-in-python/\n",
    "for item in association_results:\n",
    "    items = [x for x in item.items]\n",
    "    # print(item)\n",
    "    print(\"Rule: \" + items[0] + \" -> \" + items[1])\n",
    "    print(\"Support: \" + str(item[1]))\n",
    "    print(\"Confidence: \" + str(item[2][0][2]))\n",
    "    print(\"Lift: \" + str(item[2][0][3]))\n",
    "    print(\"=====================================\")"
   ]
  },
  {
   "cell_type": "markdown",
   "metadata": {},
   "source": [
    "Using the given criteria, we get a set of 8 association rules. We can see how some may be interesting. For example, we may predict that those who are buying bottled beer will also buy sausages since they could be planning a barbecue/party."
   ]
  },
  {
   "cell_type": "markdown",
   "metadata": {},
   "source": [
    "### 3. Frequent Itemsets"
   ]
  },
  {
   "cell_type": "markdown",
   "metadata": {},
   "source": [
    "Next, let's experiment with Finding Frequent Itemsets. We want to find items that are frequently purchased together in our groceries data. To do so, we must set a value for min_support, the minimum support needed for the itemset to be considered frequent. As a reminder, support refers to the fraction of baskets that contain the itemset. Therefore, an itemset will be considered frequent if its support value is greater than or equal to the min_support threshold we set."
   ]
  },
  {
   "cell_type": "code",
   "execution_count": 46,
   "metadata": {},
   "outputs": [],
   "source": [
    "# transactions"
   ]
  },
  {
   "cell_type": "code",
   "execution_count": 76,
   "metadata": {},
   "outputs": [
    {
     "data": {
      "text/html": [
       "<div>\n",
       "<style scoped>\n",
       "    .dataframe tbody tr th:only-of-type {\n",
       "        vertical-align: middle;\n",
       "    }\n",
       "\n",
       "    .dataframe tbody tr th {\n",
       "        vertical-align: top;\n",
       "    }\n",
       "\n",
       "    .dataframe thead th {\n",
       "        text-align: right;\n",
       "    }\n",
       "</style>\n",
       "<table border=\"1\" class=\"dataframe\">\n",
       "  <thead>\n",
       "    <tr style=\"text-align: right;\">\n",
       "      <th></th>\n",
       "      <th>Items</th>\n",
       "      <th>Support</th>\n",
       "    </tr>\n",
       "  </thead>\n",
       "  <tbody>\n",
       "    <tr>\n",
       "      <th>0</th>\n",
       "      <td>(whole milk)</td>\n",
       "      <td>0.157923</td>\n",
       "    </tr>\n",
       "    <tr>\n",
       "      <th>1</th>\n",
       "      <td>(other vegetables)</td>\n",
       "      <td>0.122101</td>\n",
       "    </tr>\n",
       "    <tr>\n",
       "      <th>2</th>\n",
       "      <td>(rolls/buns)</td>\n",
       "      <td>0.110005</td>\n",
       "    </tr>\n",
       "    <tr>\n",
       "      <th>3</th>\n",
       "      <td>(soda)</td>\n",
       "      <td>0.097106</td>\n",
       "    </tr>\n",
       "    <tr>\n",
       "      <th>4</th>\n",
       "      <td>(yogurt)</td>\n",
       "      <td>0.085879</td>\n",
       "    </tr>\n",
       "    <tr>\n",
       "      <th>5</th>\n",
       "      <td>(root vegetables)</td>\n",
       "      <td>0.069572</td>\n",
       "    </tr>\n",
       "    <tr>\n",
       "      <th>6</th>\n",
       "      <td>(tropical fruit)</td>\n",
       "      <td>0.067767</td>\n",
       "    </tr>\n",
       "    <tr>\n",
       "      <th>7</th>\n",
       "      <td>(bottled water)</td>\n",
       "      <td>0.060683</td>\n",
       "    </tr>\n",
       "    <tr>\n",
       "      <th>8</th>\n",
       "      <td>(sausage)</td>\n",
       "      <td>0.060349</td>\n",
       "    </tr>\n",
       "    <tr>\n",
       "      <th>9</th>\n",
       "      <td>(citrus fruit)</td>\n",
       "      <td>0.053131</td>\n",
       "    </tr>\n",
       "    <tr>\n",
       "      <th>10</th>\n",
       "      <td>(pastry)</td>\n",
       "      <td>0.051728</td>\n",
       "    </tr>\n",
       "  </tbody>\n",
       "</table>\n",
       "</div>"
      ],
      "text/plain": [
       "                 Items   Support\n",
       "0         (whole milk)  0.157923\n",
       "1   (other vegetables)  0.122101\n",
       "2         (rolls/buns)  0.110005\n",
       "3               (soda)  0.097106\n",
       "4             (yogurt)  0.085879\n",
       "5    (root vegetables)  0.069572\n",
       "6     (tropical fruit)  0.067767\n",
       "7      (bottled water)  0.060683\n",
       "8            (sausage)  0.060349\n",
       "9       (citrus fruit)  0.053131\n",
       "10            (pastry)  0.051728"
      ]
     },
     "execution_count": 76,
     "metadata": {},
     "output_type": "execute_result"
    }
   ],
   "source": [
    "# setting the minimum support value to 0.05\n",
    "itemsets = list(apriori(transactions, min_support=0.05))\n",
    "frequent_itemsets = []\n",
    "\n",
    "for item in itemsets:\n",
    "    frequent_itemsets.append((item.items, item.support))\n",
    "\n",
    "sorted_freq_itemsets = sorted(\n",
    "    frequent_itemsets, key=lambda t: t[1], reverse=True)\n",
    "\n",
    "pd.DataFrame(sorted_freq_itemsets, columns=['Items', 'Support'])"
   ]
  },
  {
   "cell_type": "markdown",
   "metadata": {},
   "source": [
    "We see that all of our itemsets only include 1 item... this is not very interesting to us since we want to know what items customers tend to buy together. Let's up the value of min_support so that we get results with 2 or more items and then filter the itemsets to those with at least 2 items in them."
   ]
  },
  {
   "cell_type": "code",
   "execution_count": 77,
   "metadata": {},
   "outputs": [
    {
     "data": {
      "text/html": [
       "<div>\n",
       "<style scoped>\n",
       "    .dataframe tbody tr th:only-of-type {\n",
       "        vertical-align: middle;\n",
       "    }\n",
       "\n",
       "    .dataframe tbody tr th {\n",
       "        vertical-align: top;\n",
       "    }\n",
       "\n",
       "    .dataframe thead th {\n",
       "        text-align: right;\n",
       "    }\n",
       "</style>\n",
       "<table border=\"1\" class=\"dataframe\">\n",
       "  <thead>\n",
       "    <tr style=\"text-align: right;\">\n",
       "      <th></th>\n",
       "      <th>Items</th>\n",
       "      <th>Support</th>\n",
       "    </tr>\n",
       "  </thead>\n",
       "  <tbody>\n",
       "    <tr>\n",
       "      <th>0</th>\n",
       "      <td>(other vegetables, whole milk)</td>\n",
       "      <td>0.014837</td>\n",
       "    </tr>\n",
       "    <tr>\n",
       "      <th>1</th>\n",
       "      <td>(rolls/buns, whole milk)</td>\n",
       "      <td>0.013968</td>\n",
       "    </tr>\n",
       "    <tr>\n",
       "      <th>2</th>\n",
       "      <td>(soda, whole milk)</td>\n",
       "      <td>0.011629</td>\n",
       "    </tr>\n",
       "    <tr>\n",
       "      <th>3</th>\n",
       "      <td>(yogurt, whole milk)</td>\n",
       "      <td>0.011161</td>\n",
       "    </tr>\n",
       "    <tr>\n",
       "      <th>4</th>\n",
       "      <td>(rolls/buns, other vegetables)</td>\n",
       "      <td>0.010559</td>\n",
       "    </tr>\n",
       "    <tr>\n",
       "      <th>5</th>\n",
       "      <td>(soda, other vegetables)</td>\n",
       "      <td>0.009691</td>\n",
       "    </tr>\n",
       "    <tr>\n",
       "      <th>6</th>\n",
       "      <td>(sausage, whole milk)</td>\n",
       "      <td>0.008955</td>\n",
       "    </tr>\n",
       "    <tr>\n",
       "      <th>7</th>\n",
       "      <td>(whole milk, tropical fruit)</td>\n",
       "      <td>0.008220</td>\n",
       "    </tr>\n",
       "    <tr>\n",
       "      <th>8</th>\n",
       "      <td>(yogurt, other vegetables)</td>\n",
       "      <td>0.008087</td>\n",
       "    </tr>\n",
       "    <tr>\n",
       "      <th>9</th>\n",
       "      <td>(soda, rolls/buns)</td>\n",
       "      <td>0.008087</td>\n",
       "    </tr>\n",
       "    <tr>\n",
       "      <th>10</th>\n",
       "      <td>(yogurt, rolls/buns)</td>\n",
       "      <td>0.007819</td>\n",
       "    </tr>\n",
       "    <tr>\n",
       "      <th>11</th>\n",
       "      <td>(root vegetables, whole milk)</td>\n",
       "      <td>0.007552</td>\n",
       "    </tr>\n",
       "    <tr>\n",
       "      <th>12</th>\n",
       "      <td>(bottled beer, whole milk)</td>\n",
       "      <td>0.007151</td>\n",
       "    </tr>\n",
       "    <tr>\n",
       "      <th>13</th>\n",
       "      <td>(bottled water, whole milk)</td>\n",
       "      <td>0.007151</td>\n",
       "    </tr>\n",
       "    <tr>\n",
       "      <th>14</th>\n",
       "      <td>(citrus fruit, whole milk)</td>\n",
       "      <td>0.007151</td>\n",
       "    </tr>\n",
       "  </tbody>\n",
       "</table>\n",
       "</div>"
      ],
      "text/plain": [
       "                             Items   Support\n",
       "0   (other vegetables, whole milk)  0.014837\n",
       "1         (rolls/buns, whole milk)  0.013968\n",
       "2               (soda, whole milk)  0.011629\n",
       "3             (yogurt, whole milk)  0.011161\n",
       "4   (rolls/buns, other vegetables)  0.010559\n",
       "5         (soda, other vegetables)  0.009691\n",
       "6            (sausage, whole milk)  0.008955\n",
       "7     (whole milk, tropical fruit)  0.008220\n",
       "8       (yogurt, other vegetables)  0.008087\n",
       "9               (soda, rolls/buns)  0.008087\n",
       "10            (yogurt, rolls/buns)  0.007819\n",
       "11   (root vegetables, whole milk)  0.007552\n",
       "12      (bottled beer, whole milk)  0.007151\n",
       "13     (bottled water, whole milk)  0.007151\n",
       "14      (citrus fruit, whole milk)  0.007151"
      ]
     },
     "execution_count": 77,
     "metadata": {},
     "output_type": "execute_result"
    }
   ],
   "source": [
    "itemsets = list(apriori(transactions, min_support=0.007))  # threshold smaller\n",
    "itemsets = filter(lambda x: len(x.items) > 1, itemsets)  # at least 2\n",
    "\n",
    "frequent_itemsets = []\n",
    "for item in itemsets:\n",
    "    frequent_itemsets.append((item.items, item.support))\n",
    "\n",
    "sorted_freq_itemsets = sorted(\n",
    "    frequent_itemsets, key=lambda t: t[1], reverse=True)\n",
    "\n",
    "pd.DataFrame(sorted_freq_itemsets, columns=['Items', 'Support'])"
   ]
  },
  {
   "cell_type": "markdown",
   "metadata": {},
   "source": [
    "### 4. Evaluation of Frequent Itemsets"
   ]
  },
  {
   "cell_type": "markdown",
   "metadata": {},
   "source": [
    "There are a variety of metrics available for evaluating frequent itemsets. Applying evaluation metrics is an important task since not all frequent itemsets will be meaningful. One example is Jaccard Similarity, which we will employ here. The entirety of the task is the following:\n",
    "  * Split the dataset into seasons (Fall, Winter, Spring, Summer) and select 2 of your choice\n",
    "  * Identify the 25 most frequent itemsets (with at least 2 items in each itemset) for each season\n",
    "  * Compute the Jaccard Similarity between them"
   ]
  },
  {
   "cell_type": "code",
   "execution_count": 78,
   "metadata": {},
   "outputs": [],
   "source": [
    "# Jaccard Similarity can use to evaluate the Frequent Itemsets !"
   ]
  },
  {
   "cell_type": "code",
   "execution_count": 79,
   "metadata": {},
   "outputs": [
    {
     "data": {
      "text/html": [
       "<div>\n",
       "<style scoped>\n",
       "    .dataframe tbody tr th:only-of-type {\n",
       "        vertical-align: middle;\n",
       "    }\n",
       "\n",
       "    .dataframe tbody tr th {\n",
       "        vertical-align: top;\n",
       "    }\n",
       "\n",
       "    .dataframe thead th {\n",
       "        text-align: right;\n",
       "    }\n",
       "</style>\n",
       "<table border=\"1\" class=\"dataframe\">\n",
       "  <thead>\n",
       "    <tr style=\"text-align: right;\">\n",
       "      <th></th>\n",
       "      <th>Member_number</th>\n",
       "      <th>Date</th>\n",
       "      <th>itemDescription</th>\n",
       "      <th>Season</th>\n",
       "    </tr>\n",
       "  </thead>\n",
       "  <tbody>\n",
       "    <tr>\n",
       "      <th>0</th>\n",
       "      <td>1808</td>\n",
       "      <td>21-07-2015</td>\n",
       "      <td>tropical fruit</td>\n",
       "      <td>Summer</td>\n",
       "    </tr>\n",
       "    <tr>\n",
       "      <th>1</th>\n",
       "      <td>2552</td>\n",
       "      <td>05-01-2015</td>\n",
       "      <td>whole milk</td>\n",
       "      <td>Winter</td>\n",
       "    </tr>\n",
       "    <tr>\n",
       "      <th>2</th>\n",
       "      <td>2300</td>\n",
       "      <td>19-09-2015</td>\n",
       "      <td>pip fruit</td>\n",
       "      <td>Fall</td>\n",
       "    </tr>\n",
       "    <tr>\n",
       "      <th>3</th>\n",
       "      <td>1187</td>\n",
       "      <td>12-12-2015</td>\n",
       "      <td>other vegetables</td>\n",
       "      <td>Winter</td>\n",
       "    </tr>\n",
       "    <tr>\n",
       "      <th>4</th>\n",
       "      <td>3037</td>\n",
       "      <td>01-02-2015</td>\n",
       "      <td>whole milk</td>\n",
       "      <td>Winter</td>\n",
       "    </tr>\n",
       "    <tr>\n",
       "      <th>...</th>\n",
       "      <td>...</td>\n",
       "      <td>...</td>\n",
       "      <td>...</td>\n",
       "      <td>...</td>\n",
       "    </tr>\n",
       "    <tr>\n",
       "      <th>38760</th>\n",
       "      <td>4471</td>\n",
       "      <td>08-10-2014</td>\n",
       "      <td>sliced cheese</td>\n",
       "      <td>Fall</td>\n",
       "    </tr>\n",
       "    <tr>\n",
       "      <th>38761</th>\n",
       "      <td>2022</td>\n",
       "      <td>23-02-2014</td>\n",
       "      <td>candy</td>\n",
       "      <td>Winter</td>\n",
       "    </tr>\n",
       "    <tr>\n",
       "      <th>38762</th>\n",
       "      <td>1097</td>\n",
       "      <td>16-04-2014</td>\n",
       "      <td>cake bar</td>\n",
       "      <td>Spring</td>\n",
       "    </tr>\n",
       "    <tr>\n",
       "      <th>38763</th>\n",
       "      <td>1510</td>\n",
       "      <td>03-12-2014</td>\n",
       "      <td>fruit/vegetable juice</td>\n",
       "      <td>Winter</td>\n",
       "    </tr>\n",
       "    <tr>\n",
       "      <th>38764</th>\n",
       "      <td>1521</td>\n",
       "      <td>26-12-2014</td>\n",
       "      <td>cat food</td>\n",
       "      <td>Winter</td>\n",
       "    </tr>\n",
       "  </tbody>\n",
       "</table>\n",
       "<p>38765 rows × 4 columns</p>\n",
       "</div>"
      ],
      "text/plain": [
       "       Member_number        Date        itemDescription  Season\n",
       "0               1808  21-07-2015         tropical fruit  Summer\n",
       "1               2552  05-01-2015             whole milk  Winter\n",
       "2               2300  19-09-2015              pip fruit    Fall\n",
       "3               1187  12-12-2015       other vegetables  Winter\n",
       "4               3037  01-02-2015             whole milk  Winter\n",
       "...              ...         ...                    ...     ...\n",
       "38760           4471  08-10-2014          sliced cheese    Fall\n",
       "38761           2022  23-02-2014                  candy  Winter\n",
       "38762           1097  16-04-2014               cake bar  Spring\n",
       "38763           1510  03-12-2014  fruit/vegetable juice  Winter\n",
       "38764           1521  26-12-2014               cat food  Winter\n",
       "\n",
       "[38765 rows x 4 columns]"
      ]
     },
     "execution_count": 79,
     "metadata": {},
     "output_type": "execute_result"
    }
   ],
   "source": [
    "# YOUR CODE: divide the groceries dataframe into 4 dataframes, one for each season\n",
    "# then, select 2 of them to use for the remainder of this analysis\n",
    "\n",
    "# you can use the following breakdown of months into seasons:\n",
    "# Winter = December (12), January (01), February (02)\n",
    "# Spring = March (03), April (04), May (05)\n",
    "# Summer = June (06), July (07), August (08)\n",
    "# Fall = September (09), October (10), November (11)\n",
    "\n",
    "def Season(date):\n",
    "    mm = date.split(\"-\")[1]\n",
    "    season = ''\n",
    "    if mm in [\"12\", \"01\", \"02\"]:\n",
    "        season = \"Winter\"\n",
    "    elif mm in [\"03\", \"04\", \"05\"]:\n",
    "        season = \"Spring\"\n",
    "    elif mm in [\"06\", \"07\", \"08\"]:\n",
    "        season = \"Summer\"\n",
    "    elif mm in [\"09\", \"10\", \"11\"]:\n",
    "        season = \"Fall\"\n",
    "    return season\n",
    "\n",
    "\n",
    "groceries['Season'] = groceries.Date.apply(Season)  # apply the function\n",
    "\n",
    "groceries"
   ]
  },
  {
   "cell_type": "code",
   "execution_count": 80,
   "metadata": {},
   "outputs": [
    {
     "data": {
      "text/html": [
       "<div>\n",
       "<style scoped>\n",
       "    .dataframe tbody tr th:only-of-type {\n",
       "        vertical-align: middle;\n",
       "    }\n",
       "\n",
       "    .dataframe tbody tr th {\n",
       "        vertical-align: top;\n",
       "    }\n",
       "\n",
       "    .dataframe thead th {\n",
       "        text-align: right;\n",
       "    }\n",
       "</style>\n",
       "<table border=\"1\" class=\"dataframe\">\n",
       "  <thead>\n",
       "    <tr style=\"text-align: right;\">\n",
       "      <th></th>\n",
       "      <th>Member_number</th>\n",
       "      <th>Date</th>\n",
       "      <th>itemDescription</th>\n",
       "      <th>Season</th>\n",
       "    </tr>\n",
       "  </thead>\n",
       "  <tbody>\n",
       "    <tr>\n",
       "      <th>1</th>\n",
       "      <td>2552</td>\n",
       "      <td>05-01-2015</td>\n",
       "      <td>whole milk</td>\n",
       "      <td>Winter</td>\n",
       "    </tr>\n",
       "    <tr>\n",
       "      <th>3</th>\n",
       "      <td>1187</td>\n",
       "      <td>12-12-2015</td>\n",
       "      <td>other vegetables</td>\n",
       "      <td>Winter</td>\n",
       "    </tr>\n",
       "    <tr>\n",
       "      <th>4</th>\n",
       "      <td>3037</td>\n",
       "      <td>01-02-2015</td>\n",
       "      <td>whole milk</td>\n",
       "      <td>Winter</td>\n",
       "    </tr>\n",
       "    <tr>\n",
       "      <th>5</th>\n",
       "      <td>4941</td>\n",
       "      <td>14-02-2015</td>\n",
       "      <td>rolls/buns</td>\n",
       "      <td>Winter</td>\n",
       "    </tr>\n",
       "    <tr>\n",
       "      <th>7</th>\n",
       "      <td>3803</td>\n",
       "      <td>23-12-2015</td>\n",
       "      <td>pot plants</td>\n",
       "      <td>Winter</td>\n",
       "    </tr>\n",
       "    <tr>\n",
       "      <th>...</th>\n",
       "      <td>...</td>\n",
       "      <td>...</td>\n",
       "      <td>...</td>\n",
       "      <td>...</td>\n",
       "    </tr>\n",
       "    <tr>\n",
       "      <th>38750</th>\n",
       "      <td>3761</td>\n",
       "      <td>12-02-2014</td>\n",
       "      <td>sugar</td>\n",
       "      <td>Winter</td>\n",
       "    </tr>\n",
       "    <tr>\n",
       "      <th>38757</th>\n",
       "      <td>4376</td>\n",
       "      <td>07-12-2014</td>\n",
       "      <td>rolls/buns</td>\n",
       "      <td>Winter</td>\n",
       "    </tr>\n",
       "    <tr>\n",
       "      <th>38761</th>\n",
       "      <td>2022</td>\n",
       "      <td>23-02-2014</td>\n",
       "      <td>candy</td>\n",
       "      <td>Winter</td>\n",
       "    </tr>\n",
       "    <tr>\n",
       "      <th>38763</th>\n",
       "      <td>1510</td>\n",
       "      <td>03-12-2014</td>\n",
       "      <td>fruit/vegetable juice</td>\n",
       "      <td>Winter</td>\n",
       "    </tr>\n",
       "    <tr>\n",
       "      <th>38764</th>\n",
       "      <td>1521</td>\n",
       "      <td>26-12-2014</td>\n",
       "      <td>cat food</td>\n",
       "      <td>Winter</td>\n",
       "    </tr>\n",
       "  </tbody>\n",
       "</table>\n",
       "<p>9330 rows × 4 columns</p>\n",
       "</div>"
      ],
      "text/plain": [
       "       Member_number        Date        itemDescription  Season\n",
       "1               2552  05-01-2015             whole milk  Winter\n",
       "3               1187  12-12-2015       other vegetables  Winter\n",
       "4               3037  01-02-2015             whole milk  Winter\n",
       "5               4941  14-02-2015             rolls/buns  Winter\n",
       "7               3803  23-12-2015             pot plants  Winter\n",
       "...              ...         ...                    ...     ...\n",
       "38750           3761  12-02-2014                  sugar  Winter\n",
       "38757           4376  07-12-2014             rolls/buns  Winter\n",
       "38761           2022  23-02-2014                  candy  Winter\n",
       "38763           1510  03-12-2014  fruit/vegetable juice  Winter\n",
       "38764           1521  26-12-2014               cat food  Winter\n",
       "\n",
       "[9330 rows x 4 columns]"
      ]
     },
     "execution_count": 80,
     "metadata": {},
     "output_type": "execute_result"
    }
   ],
   "source": [
    "# create the season dataframes\n",
    "groceries_winter = groceries[groceries.Season == 'Winter']\n",
    "groceries_fall = groceries[groceries.Season == 'Fall']\n",
    "groceries_spring = groceries[groceries.Season == 'Spring']\n",
    "groceries_summer = groceries[groceries.Season == 'Summer']\n",
    "\n",
    "# check\n",
    "# groceries_winter.shape[0] + groceries_fall.shape[0] + \\\n",
    "#     groceries_spring.shape[0] + groceries_summer.shape[0]\n",
    "\n",
    "groceries_winter"
   ]
  },
  {
   "cell_type": "code",
   "execution_count": 81,
   "metadata": {},
   "outputs": [],
   "source": [
    "# YOUR CODE: transform the data into the proper format\n",
    "\n",
    "# EXAMPLE ANSWER\n",
    "\n",
    "transactions_summer = [set(items[1].itemDescription) for items in\n",
    "                       list(groceries_summer.groupby(['Member_number', 'Date']))]\n",
    "transactions_winter = [set(items[1].itemDescription) for items in\n",
    "                       list(groceries_winter.groupby(['Member_number', 'Date']))]"
   ]
  },
  {
   "cell_type": "code",
   "execution_count": 83,
   "metadata": {},
   "outputs": [],
   "source": [
    "# YOUR CODE: find the top 25 most frequent itemsets (with at least 2 items)\n",
    "# for each season\n",
    "# sort them by their value for 'support' to identify the top 25 itemsets\n",
    "# HINT: adjust the value of min_support, as necessary\n",
    "\n",
    "# EXAMPLE ANSWER\n",
    "\n",
    "# summer\n",
    "itemsets_summer = list(apriori(transactions_summer, min_support=0.005))\n",
    "itemsets_summer = filter(lambda x: len(x.items) > 1, itemsets_summer)\n",
    "\n",
    "frequent_itemsets_summer = []\n",
    "for item in itemsets_summer:\n",
    "    frequent_itemsets_summer.append((item.items, item.support))\n",
    "\n",
    "sorted_freq_itemsets_summer = sorted(\n",
    "    frequent_itemsets_summer, key=lambda t: t[1], reverse=True)[0:25]\n",
    "\n",
    "# winter\n",
    "itemsets_winter = list(apriori(transactions_winter, min_support=0.005))\n",
    "itemsets_winter = filter(lambda x: len(x.items) > 1, itemsets_winter)\n",
    "\n",
    "frequent_itemsets_winter = []\n",
    "for item in itemsets_winter:\n",
    "    frequent_itemsets_winter.append((item.items, item.support))\n",
    "\n",
    "sorted_freq_itemsets_winter = sorted(\n",
    "    frequent_itemsets_winter, key=lambda t: t[1], reverse=True)[0:25]"
   ]
  },
  {
   "cell_type": "code",
   "execution_count": 85,
   "metadata": {},
   "outputs": [
    {
     "data": {
      "text/plain": [
       "[(frozenset({'other vegetables', 'whole milk'}), 0.015100234313980734),\n",
       " (frozenset({'soda', 'whole milk'}), 0.013017443374121323),\n",
       " (frozenset({'rolls/buns', 'whole milk'}), 0.01249674563915647),\n",
       " (frozenset({'other vegetables', 'rolls/buns'}), 0.011195001301744337),\n",
       " (frozenset({'whole milk', 'yogurt'}), 0.01093465243426191),\n",
       " (frozenset({'other vegetables', 'soda'}), 0.009632908096849779),\n",
       " (frozenset({'other vegetables', 'yogurt'}), 0.009112210361884926),\n",
       " (frozenset({'domestic eggs', 'whole milk'}), 0.008591512626920072),\n",
       " (frozenset({'rolls/buns', 'yogurt'}), 0.008591512626920072),\n",
       " (frozenset({'root vegetables', 'whole milk'}), 0.008331163759437647),\n",
       " (frozenset({'sausage', 'whole milk'}), 0.008331163759437647),\n",
       " (frozenset({'rolls/buns', 'soda'}), 0.00807081489195522),\n",
       " (frozenset({'other vegetables', 'sausage'}), 0.007810466024472794),\n",
       " (frozenset({'bottled beer', 'whole milk'}), 0.007550117156990367),\n",
       " (frozenset({'pastry', 'whole milk'}), 0.007550117156990367),\n",
       " (frozenset({'tropical fruit', 'whole milk'}), 0.007029419422025514),\n",
       " (frozenset({'frankfurter', 'whole milk'}), 0.006769070554543088),\n",
       " (frozenset({'other vegetables', 'tropical fruit'}), 0.006769070554543088),\n",
       " (frozenset({'sausage', 'soda'}), 0.006769070554543088),\n",
       " (frozenset({'soda', 'yogurt'}), 0.006769070554543088),\n",
       " (frozenset({'citrus fruit', 'whole milk'}), 0.006508721687060661),\n",
       " (frozenset({'newspapers', 'whole milk'}), 0.006508721687060661),\n",
       " (frozenset({'root vegetables', 'soda'}), 0.006508721687060661),\n",
       " (frozenset({'shopping bags', 'whole milk'}), 0.006508721687060661),\n",
       " (frozenset({'rolls/buns', 'tropical fruit'}), 0.006248372819578235)]"
      ]
     },
     "execution_count": 85,
     "metadata": {},
     "output_type": "execute_result"
    }
   ],
   "source": [
    "sorted_freq_itemsets_summer  # summer 前25support的 购物组合pattern"
   ]
  },
  {
   "cell_type": "code",
   "execution_count": 86,
   "metadata": {},
   "outputs": [
    {
     "data": {
      "text/plain": [
       "[(frozenset({'other vegetables', 'whole milk'}), 0.012869660460021906),\n",
       " (frozenset({'other vegetables', 'rolls/buns'}), 0.011226725082146768),\n",
       " (frozenset({'rolls/buns', 'whole milk'}), 0.01095290251916758),\n",
       " (frozenset({'soda', 'whole milk'}), 0.01067907995618839),\n",
       " (frozenset({'tropical fruit', 'whole milk'}), 0.009309967141292442),\n",
       " (frozenset({'whole milk', 'yogurt'}), 0.009309967141292442),\n",
       " (frozenset({'other vegetables', 'yogurt'}), 0.008488499452354874),\n",
       " (frozenset({'other vegetables', 'soda'}), 0.008214676889375685),\n",
       " (frozenset({'rolls/buns', 'soda'}), 0.007667031763417305),\n",
       " (frozenset({'root vegetables', 'whole milk'}), 0.007119386637458927),\n",
       " (frozenset({'sausage', 'whole milk'}), 0.007119386637458927),\n",
       " (frozenset({'rolls/buns', 'yogurt'}), 0.006845564074479737),\n",
       " (frozenset({'pip fruit', 'whole milk'}), 0.0065717415115005475),\n",
       " (frozenset({'bottled beer', 'whole milk'}), 0.006024096385542169),\n",
       " (frozenset({'bottled water', 'whole milk'}), 0.006024096385542169),\n",
       " (frozenset({'newspapers', 'whole milk'}), 0.006024096385542169),\n",
       " (frozenset({'pastry', 'whole milk'}), 0.006024096385542169),\n",
       " (frozenset({'rolls/buns', 'tropical fruit'}), 0.006024096385542169),\n",
       " (frozenset({'shopping bags', 'whole milk'}), 0.006024096385542169),\n",
       " (frozenset({'canned beer', 'whole milk'}), 0.005750273822562979),\n",
       " (frozenset({'citrus fruit', 'whole milk'}), 0.005750273822562979),\n",
       " (frozenset({'frankfurter', 'other vegetables'}), 0.005750273822562979),\n",
       " (frozenset({'other vegetables', 'shopping bags'}), 0.005750273822562979),\n",
       " (frozenset({'root vegetables', 'soda'}), 0.005750273822562979),\n",
       " (frozenset({'bottled water', 'other vegetables'}), 0.00547645125958379)]"
      ]
     },
     "execution_count": 86,
     "metadata": {},
     "output_type": "execute_result"
    }
   ],
   "source": [
    "sorted_freq_itemsets_winter"
   ]
  },
  {
   "cell_type": "code",
   "execution_count": null,
   "metadata": {},
   "outputs": [],
   "source": []
  },
  {
   "cell_type": "code",
   "execution_count": 90,
   "metadata": {},
   "outputs": [
    {
     "name": "stdout",
     "output_type": "stream",
     "text": [
      "Intersection: 19; Union: 31; Jaccard Similarity: 0.6129032258064516\n"
     ]
    }
   ],
   "source": [
    "# YOUR CODE: compute the Jaccard Similarity between the two sets of\n",
    "# the top 25 most frequent itemsets\n",
    "\n",
    "# 两个季度之间 frequent itemsets 的pattern相似度是多少\n",
    "\n",
    "\n",
    "# 提取纯itemsets\n",
    "itemsets_summer = set(item[0] for item in sorted_freq_itemsets_summer)\n",
    "itemsets_winter = set(item[0] for item in sorted_freq_itemsets_winter)\n",
    "\n",
    "# 取交集并集 \n",
    "intersection = len(itemsets_summer.intersection(itemsets_winter))\n",
    "union = len(itemsets_summer.union(itemsets_winter))\n",
    "\n",
    "# 计算similarity\n",
    "similarity = intersection/union\n",
    "\n",
    "print(\"Intersection: {}; Union: {}; Jaccard Similarity: {}\".format(\n",
    "    intersection, union, similarity))"
   ]
  },
  {
   "cell_type": "markdown",
   "metadata": {},
   "source": [
    "In this example, we see that among the top 25 most frequent itemsets for the transactions for summer and winter, there are 19 in common resulting in a Jaccard Similarity of 0.613. This indicates that there is substantial overlap in the itemsets purchased in summer and winter but there are some differences. If we wanted to dive deeper into this, we could take a look at the itemsets that are the same between summer and winter versus those that are different to try and gain insights."
   ]
  },
  {
   "cell_type": "code",
   "execution_count": null,
   "metadata": {},
   "outputs": [],
   "source": []
  }
 ],
 "metadata": {
  "kernelspec": {
   "display_name": "Python 3 (ipykernel)",
   "language": "python",
   "name": "python3"
  },
  "language_info": {
   "codemirror_mode": {
    "name": "ipython",
    "version": 3
   },
   "file_extension": ".py",
   "mimetype": "text/x-python",
   "name": "python",
   "nbconvert_exporter": "python",
   "pygments_lexer": "ipython3",
   "version": "3.9.7"
  }
 },
 "nbformat": 4,
 "nbformat_minor": 4
}
